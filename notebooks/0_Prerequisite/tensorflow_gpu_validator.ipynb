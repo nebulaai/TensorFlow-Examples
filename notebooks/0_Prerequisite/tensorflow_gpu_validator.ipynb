{
 "cells": [
  {
   "cell_type": "code",
   "execution_count": 14,
   "metadata": {},
   "outputs": [
    {
     "name": "stdout",
     "output_type": "stream",
     "text": [
      "\u001b[33mWARNING: The directory '/home/jovyan/.cache/pip/http' or its parent directory is not owned by the current user and the cache has been disabled. Please check the permissions and owner of that directory. If executing pip with sudo, you may want sudo's -H flag.\u001b[0m\n",
      "\u001b[33mWARNING: The directory '/home/jovyan/.cache/pip' or its parent directory is not owned by the current user and caching wheels has been disabled. check the permissions and owner of that directory. If executing pip with sudo, you may want sudo's -H flag.\u001b[0m\n",
      "Collecting wurlitzer\n",
      "  Downloading https://files.pythonhosted.org/packages/09/56/201c4d13c37b6fb0cb5dbf1d026a2fec14fd151fd4f3f1dc1144d6273fd3/wurlitzer-1.0.3-py2.py3-none-any.whl\n",
      "Installing collected packages: wurlitzer\n",
      "Successfully installed wurlitzer-1.0.3\n",
      "[[22. 28.]\n",
      " [49. 64.]]\n",
      "MatMul: (MatMul): /job:localhost/replica:0/task:0/device:GPU:0\n",
      "MatMul_1: (MatMul): /job:localhost/replica:0/task:0/device:GPU:0\n",
      "MatMul_2: (MatMul): /job:localhost/replica:0/task:0/device:GPU:0\n",
      "MatMul_3: (MatMul): /job:localhost/replica:0/task:0/device:GPU:0\n",
      "MatMul_4: (MatMul): /job:localhost/replica:0/task:0/device:GPU:0\n",
      "a: (Const): /job:localhost/replica:0/task:0/device:GPU:0\n",
      "b: (Const): /job:localhost/replica:0/task:0/device:GPU:0\n",
      "a_1: (Const): /job:localhost/replica:0/task:0/device:GPU:0\n",
      "b_1: (Const): /job:localhost/replica:0/task:0/device:GPU:0\n",
      "a_2: (Const): /job:localhost/replica:0/task:0/device:GPU:0\n",
      "b_2: (Const): /job:localhost/replica:0/task:0/device:GPU:0\n",
      "a_3: (Const): /job:localhost/replica:0/task:0/device:GPU:0\n",
      "b_3: (Const): /job:localhost/replica:0/task:0/device:GPU:0\n",
      "a_4: (Const): /job:localhost/replica:0/task:0/device:GPU:0\n",
      "b_4: (Const): /job:localhost/replica:0/task:0/device:GPU:0\n",
      "\n"
     ]
    }
   ],
   "source": [
    "!pip install wurlitzer\n",
    "\n",
    "import tensorflow as tf\n",
    "# Creates a graph.\n",
    "a = tf.constant([1.0, 2.0, 3.0, 4.0, 5.0, 6.0], shape=[2, 3], name='a')\n",
    "b = tf.constant([1.0, 2.0, 3.0, 4.0, 5.0, 6.0], shape=[3, 2], name='b')\n",
    "c = tf.matmul(a, b)\n",
    "\n",
    "tf.logging.set_verbosity(tf.logging.INFO)\n",
    "# Creates a session with log_device_placement set to True.\n",
    "sess = tf.Session(config=tf.ConfigProto(log_device_placement=True))\n",
    "\n",
    "# Runs the op.\n",
    "from wurlitzer import pipes\n",
    "\n",
    "with pipes() as (out, err):\n",
    "    print(sess.run(c))\n",
    "\n",
    "print (out.read())"
   ]
  },
  {
   "cell_type": "code",
   "execution_count": 12,
   "metadata": {},
   "outputs": [
    {
     "name": "stdout",
     "output_type": "stream",
     "text": [
      "[[22. 28.]\n",
      " [49. 64.]]\n"
     ]
    }
   ],
   "source": [
    "# Creates a graph.\n",
    "a = tf.constant([1.0, 2.0, 3.0, 4.0, 5.0, 6.0], shape=[2, 3], name='a')\n",
    "b = tf.constant([1.0, 2.0, 3.0, 4.0, 5.0, 6.0], shape=[3, 2], name='b')\n",
    "c = tf.matmul(a, b)\n",
    "# Creates a session with log_device_placement set to True.\n",
    "sess = tf.Session(config=tf.ConfigProto(log_device_placement=True))\n",
    "# Runs the op.\n",
    "print(sess.run(c))"
   ]
  },
  {
   "cell_type": "code",
   "execution_count": 5,
   "metadata": {},
   "outputs": [
    {
     "name": "stdout",
     "output_type": "stream",
     "text": [
      "[_DeviceAttributes(/job:localhost/replica:0/task:0/device:CPU:0, CPU, 268435456, 679853504195796402), _DeviceAttributes(/job:localhost/replica:0/task:0/device:XLA_CPU:0, XLA_CPU, 17179869184, 9293594005943040426), _DeviceAttributes(/job:localhost/replica:0/task:0/device:GPU:0, GPU, 7997630055, 14534595222766594971), _DeviceAttributes(/job:localhost/replica:0/task:0/device:XLA_GPU:0, XLA_GPU, 17179869184, 13023549983922965672)]\n"
     ]
    }
   ],
   "source": [
    "with tf.Session() as sess:\n",
    "    devices = sess.list_devices()\n",
    "    print(devices)"
   ]
  },
  {
   "cell_type": "code",
   "execution_count": null,
   "metadata": {},
   "outputs": [],
   "source": []
  }
 ],
 "metadata": {
  "kernelspec": {
   "display_name": "Python 3",
   "language": "python",
   "name": "python3"
  },
  "language_info": {
   "codemirror_mode": {
    "name": "ipython",
    "version": 3
   },
   "file_extension": ".py",
   "mimetype": "text/x-python",
   "name": "python",
   "nbconvert_exporter": "python",
   "pygments_lexer": "ipython3",
   "version": "3.7.3"
  }
 },
 "nbformat": 4,
 "nbformat_minor": 4
}
